{
 "cells": [
  {
   "cell_type": "markdown",
   "metadata": {},
   "source": [
    "# Causal Machine Learning\n",
    "\n",
    "This is a simplest introduction of [CS 7290 Special Topics in Data Science Summer 2019](https://github.com/Causal-Inference-ZeroToAll/causalMLcourse) by Prof. Robert Osazuwa Ness Northeastern University, Khoury College of Computer Sciences"
   ]
  },
  {
   "cell_type": "markdown",
   "metadata": {},
   "source": [
    "----\n",
    "\n",
    "**Course Description.** This course introduces key ideas in causal inference and how to apply them to areas of machine learning where they have the most impact, such as predicting under intervention, A/B testing, bandit algorithms, reinforcement learning, agent modeling, and improving the performance of machine learning systems using past human-interaction data. The focus is on how to put these ideas into practice with real-world machine learning systems.\n",
    "\n",
    "(课程的适用人群) This course targets data scientists and ML engineers familiar with probabilistic generative modeling in machine learning. Learners familiar with how to use a tensor-based framework to build a Gaussian mixture model or a variational auto-encoder will find the material grafts directly onto this modeling intuition. This course **focuses on causal probabilistic modeling and structural causal models** because they **fit nicely into that generative model framework and its toolsets.** The course also covers elements of the Neyman–Rubin causal model that are commonplace in professional machine learning settings."
   ]
  },
  {
   "cell_type": "markdown",
   "metadata": {},
   "source": [
    "----\n",
    "\n",
    "Syllabus(May 8-Aug 14, 2019)\n",
    "\n",
    "1. Course overview\n",
    "2. Some useful tools\n",
    "1. How to think in DAGs\n",
    "2. Interventions\n",
    "3. Confounding and deconfounding\n",
    "4. Deconfounding with interventions\n",
    "5. Counterfactuals and overview of class project\n",
    "6. Counterfactuals and causal programming\n",
    "7. Causal deep generative models\n",
    "8. Guest speaker, causal models and online learning\n",
    "9. Counterfactual evaluation for offline learning\n",
    "10. Causal reinforcement learning\n",
    "11. Converting probablistic models to SCMs\n",
    "12. Project presentations"
   ]
  },
  {
   "cell_type": "code",
   "execution_count": null,
   "metadata": {},
   "outputs": [],
   "source": []
  }
 ],
 "metadata": {
  "kernelspec": {
   "display_name": "Python 3",
   "language": "python",
   "name": "python3"
  },
  "language_info": {
   "codemirror_mode": {
    "name": "ipython",
    "version": 3
   },
   "file_extension": ".py",
   "mimetype": "text/x-python",
   "name": "python",
   "nbconvert_exporter": "python",
   "pygments_lexer": "ipython3",
   "version": "3.6.8"
  }
 },
 "nbformat": 4,
 "nbformat_minor": 2
}
